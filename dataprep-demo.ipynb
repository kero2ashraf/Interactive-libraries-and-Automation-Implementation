{
 "cells": [
  {
   "cell_type": "code",
   "execution_count": 1,
   "id": "2c948abb",
   "metadata": {
    "execution": {
     "iopub.execute_input": "2023-11-27T16:22:47.252464Z",
     "iopub.status.busy": "2023-11-27T16:22:47.251575Z",
     "iopub.status.idle": "2023-11-27T16:22:47.612922Z",
     "shell.execute_reply": "2023-11-27T16:22:47.611676Z"
    },
    "papermill": {
     "duration": 0.368126,
     "end_time": "2023-11-27T16:22:47.614680",
     "exception": true,
     "start_time": "2023-11-27T16:22:47.246554",
     "status": "failed"
    },
    "tags": []
   },
   "outputs": [
    {
     "ename": "ModuleNotFoundError",
     "evalue": "No module named 'dataprep'",
     "output_type": "error",
     "traceback": [
      "\u001b[0;31m---------------------------------------------------------------------------\u001b[0m",
      "\u001b[0;31mModuleNotFoundError\u001b[0m                       Traceback (most recent call last)",
      "Cell \u001b[0;32mIn[1], line 1\u001b[0m\n\u001b[0;32m----> 1\u001b[0m \u001b[38;5;28;01mfrom\u001b[39;00m \u001b[38;5;21;01mdataprep\u001b[39;00m\u001b[38;5;21;01m.\u001b[39;00m\u001b[38;5;21;01meda\u001b[39;00m \u001b[38;5;28;01mimport\u001b[39;00m \u001b[38;5;241m*\u001b[39m\n\u001b[1;32m      2\u001b[0m \u001b[38;5;28;01mimport\u001b[39;00m \u001b[38;5;21;01mpandas\u001b[39;00m \u001b[38;5;28;01mas\u001b[39;00m \u001b[38;5;21;01mpd\u001b[39;00m\n\u001b[1;32m      3\u001b[0m train_df \u001b[38;5;241m=\u001b[39m pd\u001b[38;5;241m.\u001b[39mread_csv(\u001b[38;5;124m'\u001b[39m\u001b[38;5;124m/kaggle/input/titanic/titanic.csv\u001b[39m\u001b[38;5;124m'\u001b[39m)\n",
      "\u001b[0;31mModuleNotFoundError\u001b[0m: No module named 'dataprep'"
     ]
    }
   ],
   "source": [
    "from dataprep.eda import *\n",
    "import pandas as pd\n",
    "train_df = pd.read_csv('/kaggle/input/titanic/titanic.csv')\n",
    "train_df"
   ]
  },
  {
   "cell_type": "code",
   "execution_count": null,
   "id": "2abe5dd8",
   "metadata": {
    "execution": {
     "iopub.execute_input": "2023-11-27T16:18:31.355120Z",
     "iopub.status.busy": "2023-11-27T16:18:31.354230Z",
     "iopub.status.idle": "2023-11-27T16:18:33.775673Z",
     "shell.execute_reply": "2023-11-27T16:18:33.772923Z",
     "shell.execute_reply.started": "2023-11-27T16:18:31.355083Z"
    },
    "papermill": {
     "duration": null,
     "end_time": null,
     "exception": null,
     "start_time": null,
     "status": "pending"
    },
    "tags": []
   },
   "outputs": [],
   "source": [
    "plot(train_df)"
   ]
  },
  {
   "cell_type": "code",
   "execution_count": null,
   "id": "07788941",
   "metadata": {
    "execution": {
     "iopub.execute_input": "2023-11-27T16:19:34.321588Z",
     "iopub.status.busy": "2023-11-27T16:19:34.320526Z",
     "iopub.status.idle": "2023-11-27T16:19:35.917755Z",
     "shell.execute_reply": "2023-11-27T16:19:35.914460Z",
     "shell.execute_reply.started": "2023-11-27T16:19:34.321552Z"
    },
    "papermill": {
     "duration": null,
     "end_time": null,
     "exception": null,
     "start_time": null,
     "status": "pending"
    },
    "tags": []
   },
   "outputs": [],
   "source": [
    "# identify 'PassengerId','Survived', 'Pclass' as categorical column and replot.\n",
    "for col in ['Survived', 'Pclass']:\n",
    "    train_df[col] = train_df[col].astype(\"object\")\n",
    "plot(train_df)"
   ]
  },
  {
   "cell_type": "markdown",
   "id": "be0424b2",
   "metadata": {
    "papermill": {
     "duration": null,
     "end_time": null,
     "exception": null,
     "start_time": null,
     "status": "pending"
    },
    "tags": []
   },
   "source": [
    "# Check for missing values"
   ]
  },
  {
   "cell_type": "code",
   "execution_count": null,
   "id": "9fd07974",
   "metadata": {
    "_kg_hide-output": false,
    "execution": {
     "iopub.execute_input": "2023-11-27T16:20:20.971724Z",
     "iopub.status.busy": "2023-11-27T16:20:20.971315Z",
     "iopub.status.idle": "2023-11-27T16:20:21.682090Z",
     "shell.execute_reply": "2023-11-27T16:20:21.680193Z",
     "shell.execute_reply.started": "2023-11-27T16:20:20.971693Z"
    },
    "papermill": {
     "duration": null,
     "end_time": null,
     "exception": null,
     "start_time": null,
     "status": "pending"
    },
    "tags": []
   },
   "outputs": [],
   "source": [
    "plot_missing(train_df)"
   ]
  },
  {
   "cell_type": "markdown",
   "id": "b4ecb70e",
   "metadata": {
    "papermill": {
     "duration": null,
     "end_time": null,
     "exception": null,
     "start_time": null,
     "status": "pending"
    },
    "tags": []
   },
   "source": [
    "# Identify Correlated Features¶\n",
    "For now, we identified the useful features one by one, and removed the useless features. Altough each feature is useful to predict Survived, when we consider them together, we may not want correlated features. Hence, we first identity correlated features. This could be done by simply calling plot_correlation(df)."
   ]
  },
  {
   "cell_type": "code",
   "execution_count": null,
   "id": "b6d7552e",
   "metadata": {
    "execution": {
     "iopub.execute_input": "2023-11-27T16:21:24.642144Z",
     "iopub.status.busy": "2023-11-27T16:21:24.641747Z",
     "iopub.status.idle": "2023-11-27T16:21:25.089666Z",
     "shell.execute_reply": "2023-11-27T16:21:25.088644Z",
     "shell.execute_reply.started": "2023-11-27T16:21:24.642112Z"
    },
    "papermill": {
     "duration": null,
     "end_time": null,
     "exception": null,
     "start_time": null,
     "status": "pending"
    },
    "tags": []
   },
   "outputs": [],
   "source": [
    "plot_correlation(train_df)"
   ]
  },
  {
   "cell_type": "code",
   "execution_count": null,
   "id": "23ca39b4",
   "metadata": {
    "papermill": {
     "duration": null,
     "end_time": null,
     "exception": null,
     "start_time": null,
     "status": "pending"
    },
    "tags": []
   },
   "outputs": [],
   "source": []
  }
 ],
 "metadata": {
  "kaggle": {
   "accelerator": "gpu",
   "dataSources": [
    {
     "datasetId": 4069296,
     "sourceId": 7066945,
     "sourceType": "datasetVersion"
    }
   ],
   "dockerImageVersionId": 30588,
   "isGpuEnabled": true,
   "isInternetEnabled": true,
   "language": "python",
   "sourceType": "notebook"
  },
  "kernelspec": {
   "display_name": "Python 3",
   "language": "python",
   "name": "python3"
  },
  "language_info": {
   "codemirror_mode": {
    "name": "ipython",
    "version": 3
   },
   "file_extension": ".py",
   "mimetype": "text/x-python",
   "name": "python",
   "nbconvert_exporter": "python",
   "pygments_lexer": "ipython3",
   "version": "3.10.12"
  },
  "papermill": {
   "default_parameters": {},
   "duration": 4.021483,
   "end_time": "2023-11-27T16:22:47.938484",
   "environment_variables": {},
   "exception": true,
   "input_path": "__notebook__.ipynb",
   "output_path": "__notebook__.ipynb",
   "parameters": {},
   "start_time": "2023-11-27T16:22:43.917001",
   "version": "2.4.0"
  }
 },
 "nbformat": 4,
 "nbformat_minor": 5
}
